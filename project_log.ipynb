{
 "cells": [
  {
   "cell_type": "markdown",
   "metadata": {},
   "source": [
    "#Intro to Machine Learning - Project log \n",
    "## Andrew Lavers - June 6, 2015\n",
    "\n",
    "This python notebook documents the exploration of the data, algorithms and results."
   ]
  },
  {
   "cell_type": "code",
   "execution_count": 426,
   "metadata": {
    "collapsed": false,
    "scrolled": true
   },
   "outputs": [
    {
     "data": {
      "text/html": [
       "<script>\n",
       "code_show=true; \n",
       "function code_toggle() {\n",
       " if (code_show){\n",
       " $('div.input').hide();\n",
       " } else {\n",
       " $('div.input').show();\n",
       " }\n",
       " code_show = !code_show\n",
       "} \n",
       "$( document ).ready(code_toggle);\n",
       "</script>\n",
       "<form action=\"javascript:code_toggle()\"><input type=\"submit\" value=\"Click here to toggle on/off the raw code.\"></form>"
      ],
      "text/plain": [
       "<IPython.core.display.HTML object>"
      ]
     },
     "execution_count": 426,
     "metadata": {},
     "output_type": "execute_result"
    }
   ],
   "source": [
    "from IPython.display import HTML\n",
    "\n",
    "HTML('''<script>\n",
    "code_show=true; \n",
    "function code_toggle() {\n",
    " if (code_show){\n",
    " $('div.input').hide();\n",
    " } else {\n",
    " $('div.input').show();\n",
    " }\n",
    " code_show = !code_show\n",
    "} \n",
    "$( document ).ready(code_toggle);\n",
    "</script>\n",
    "<form action=\"javascript:code_toggle()\"><input type=\"submit\" value=\"Click here to toggle on/off the raw code.\"></form>''')"
   ]
  },
  {
   "cell_type": "code",
   "execution_count": 428,
   "metadata": {
    "collapsed": false,
    "scrolled": false
   },
   "outputs": [],
   "source": [
    "import pickle\n",
    "import sys\n",
    "from feature_format import featureFormat, targetFeatureSplit\n",
    "from sklearn.cross_validation import train_test_split\n",
    "from sklearn.metrics import accuracy_score, precision_score, recall_score, f1_score\n",
    "from pprint import pprint"
   ]
  },
  {
   "cell_type": "code",
   "execution_count": 429,
   "metadata": {
    "collapsed": false
   },
   "outputs": [
    {
     "data": {
      "application/javascript": [
       "IPython.load_extensions('calico-spell-check')"
      ],
      "text/plain": [
       "<IPython.core.display.Javascript object>"
      ]
     },
     "metadata": {},
     "output_type": "display_data"
    }
   ],
   "source": [
    "%%javascript\n",
    "IPython.load_extensions('calico-spell-check')"
   ]
  },
  {
   "cell_type": "markdown",
   "metadata": {},
   "source": [
    "##Question 1\n",
    ">Summarize for us the goal of this project and how machine learning is useful in trying to accomplish it.  As part     of your answer, give some background on the dataset and how it can be used to answer the project question.  Were       there any outliers in the data when you got it, and how did you handle those?  [relevant rubric items: “data           exploration”, “outlier investigation”]\n"
   ]
  },
  {
   "cell_type": "markdown",
   "metadata": {},
   "source": [
    "### Goal\n",
    "The analytical goal of this project is to investigate whether a “Person of Interest” in the Enron Fraud investigation, can be systematically identified from certain financial data points and/or from their email messages. The technical goal is to use machine-learning techniques for this investigation."
   ]
  },
  {
   "cell_type": "markdown",
   "metadata": {},
   "source": [
    "### Dataset background\n",
    "\n",
    "The data set comprises person, financial, stock and email information and related email messages for persons that could be \"persons of interest\" in the Enron fraud investigation. The boolean variable `poi` with value `True` identifies persons that are poi's. \n",
    "\n",
    "Here is a sample row.\n"
   ]
  },
  {
   "cell_type": "code",
   "execution_count": 391,
   "metadata": {
    "collapsed": false
   },
   "outputs": [
    {
     "name": "stdout",
     "output_type": "stream",
     "text": [
      "'METTS MARK',\n",
      "{'bonus': 600000,\n",
      " 'deferral_payments': 'NaN',\n",
      " 'deferred_income': 'NaN',\n",
      " 'director_fees': 'NaN',\n",
      " 'email_address': 'mark.metts@enron.com',\n",
      " 'exercised_stock_options': 'NaN',\n",
      " 'expenses': 94299,\n",
      " 'from_messages': 29,\n",
      " 'from_poi_to_this_person': 38,\n",
      " 'from_this_person_to_poi': 1,\n",
      " 'loan_advances': 'NaN',\n",
      " 'long_term_incentive': 'NaN',\n",
      " 'other': 1740,\n",
      " 'poi': False,\n",
      " 'restricted_stock': 585062,\n",
      " 'restricted_stock_deferred': 'NaN',\n",
      " 'salary': 365788,\n",
      " 'shared_receipt_with_poi': 702,\n",
      " 'to_messages': 807,\n",
      " 'total_payments': 1061827,\n",
      " 'total_stock_value': 585062}\n"
     ]
    }
   ],
   "source": [
    "### read in data dictionary, convert to numpy array\n",
    "data_dict = pickle.load( open(\"../final_project/final_project_dataset.pkl\", \"r\") )\n",
    "# print an example row\n",
    "print \"'METTS MARK',\"\n",
    "pprint(data_dict['METTS MARK'])\n",
    "# the totals should be skipped\n",
    "xx = data_dict.pop( 'TOTAL', 0 ) \n",
    "\n",
    "# build a pandas dataframe for numerics to ease the investigation. Dont drop any zeros\n",
    "data = featureFormat(data_dict, features, remove_all_zeroes = False)\n",
    "df = pd.DataFrame(data, columns=features)\n",
    "df['name'] = data_dict.keys()\n",
    "df = df[['name'] + features ]\n",
    "                  \n",
    "# build a second dataframe with all values\n",
    "dfc = pd.DataFrame(data_dict).transpose()"
   ]
  },
  {
   "cell_type": "code",
   "execution_count": 392,
   "metadata": {
    "collapsed": true
   },
   "outputs": [],
   "source": [
    "money_features =['total_payments', 'salary', 'bonus', \n",
    "                 'deferral_payments', 'deferred_income', 'long_term_incentive',\n",
    "                 'expenses', 'loan_advances', \n",
    "                 'other', 'director_fees', \n",
    "stock_features = ['restricted_stock', 'restricted_stock_deferred', 'exercised_stock_options', 'total_stock_value']\n",
    "email_to_from_features =['to_messages', 'from_messages'] \n",
    "email_poi_features = ['shared_receipt_with_poi', 'from_this_person_to_poi', 'from_poi_to_this_person']\n",
    "email_features = email_to_from_features + email_poi_features\n",
    "id_features = ['name', 'email_address']\n",
    "class_features = ['poi']\n",
    "\n",
    "# put them together for a full list\n",
    "features = class_features + email_features + money_features + stock_features\n",
    "all_features = features"
   ]
  },
  {
   "cell_type": "markdown",
   "metadata": {},
   "source": [
    "### Features \n",
    "\n",
    "There are different groups of features that are possibly closely related. For example, `bonus` is often directly related to `salary` and `total_payments` is the sum of other values. This lack of independence must be considered."
   ]
  },
  {
   "cell_type": "code",
   "execution_count": 393,
   "metadata": {
    "collapsed": false,
    "scrolled": true
   },
   "outputs": [
    {
     "name": "stdout",
     "output_type": "stream",
     "text": [
      "\n",
      "- Class labels\n",
      "['poi']\n",
      "\n",
      "- Money features - Payments\n",
      "['total_payments',\n",
      " 'salary',\n",
      " 'bonus',\n",
      " 'deferral_payments',\n",
      " 'deferred_income',\n",
      " 'long_term_incentive',\n",
      " 'expenses',\n",
      " 'loan_advances',\n",
      " 'other',\n",
      " 'director_fees']\n",
      "\n",
      "- Stock features - Value of stock items\n",
      "['restricted_stock',\n",
      " 'restricted_stock_deferred',\n",
      " 'exercised_stock_options',\n",
      " 'total_stock_value']\n",
      "\n",
      "- Email features\n",
      "['to_messages',\n",
      " 'from_messages',\n",
      " 'shared_receipt_with_poi',\n",
      " 'from_this_person_to_poi',\n",
      " 'from_poi_to_this_person']\n",
      "\n",
      "- Identification features\n",
      "['name', 'email_address']\n"
     ]
    }
   ],
   "source": [
    "print '\\n- Class labels'\n",
    "pprint (class_features)\n",
    "print '\\n- Money features - Payments'\n",
    "pprint (money_features)\n",
    "print '\\n- Stock features - Value of stock items'\n",
    "pprint (stock_features)\n",
    "print '\\n- Email features'\n",
    "pprint (email_features)\n",
    "print '\\n- Identification features'\n",
    "pprint (id_features)\n",
    "\n",
    "\n",
    "\n",
    "\n"
   ]
  },
  {
   "cell_type": "code",
   "execution_count": null,
   "metadata": {
    "collapsed": true
   },
   "outputs": [],
   "source": []
  },
  {
   "cell_type": "markdown",
   "metadata": {},
   "source": [
    "###Basic dataset facts\n",
    "\n"
   ]
  },
  {
   "cell_type": "code",
   "execution_count": 394,
   "metadata": {
    "collapsed": false
   },
   "outputs": [
    {
     "name": "stdout",
     "output_type": "stream",
     "text": [
      "Number of persons: 145\n",
      "Number of persons of interest (POI):  18\n",
      "Number of persons with email addresses: 111\n",
      "Total email messages: 230708\n"
     ]
    }
   ],
   "source": [
    "print \"Number of persons: {}\".format(len(df))\n",
    "print \"Number of persons of interest (POI): {:3}\".format(int(sum(df['poi'])))\n",
    "print \"Number of persons with email addresses: {}\".format(int(sum(dfc['email_address']!='NaN')))\n",
    "print \"Total email messages: {}\".format(int(sum(df['to_messages']+df['from_messages'])))"
   ]
  },
  {
   "cell_type": "markdown",
   "metadata": {},
   "source": [
    "###Basic dataset statistics\n",
    "\n",
    "Reviewing the basic statistics below shows a very broad variation for most items. For example, the maximum bonus of $8million is ten times that of the 75th percentile. Outliers should be investigated. "
   ]
  },
  {
   "cell_type": "markdown",
   "metadata": {},
   "source": [
    "<style>\n",
    "dataframe {\n",
    "font-size:50%;\n",
    "}\n",
    "</style>"
   ]
  },
  {
   "cell_type": "code",
   "execution_count": 395,
   "metadata": {
    "collapsed": false,
    "scrolled": false
   },
   "outputs": [
    {
     "data": {
      "text/html": [
       "<div style=\"max-height:1000px;max-width:1500px;overflow:auto;\">\n",
       "<table border=\"1\" class=\"dataframe\">\n",
       "  <thead>\n",
       "    <tr style=\"text-align: right;\">\n",
       "      <th></th>\n",
       "      <th>total_payments</th>\n",
       "      <th>salary</th>\n",
       "      <th>bonus</th>\n",
       "      <th>deferral_payments</th>\n",
       "      <th>deferred_income</th>\n",
       "      <th>long_term_incentive</th>\n",
       "      <th>expenses</th>\n",
       "      <th>loan_advances</th>\n",
       "      <th>other</th>\n",
       "      <th>director_fees</th>\n",
       "    </tr>\n",
       "  </thead>\n",
       "  <tbody>\n",
       "    <tr>\n",
       "      <th>count</th>\n",
       "      <td> 1.450000e+02</td>\n",
       "      <td>     145.000000</td>\n",
       "      <td>     145.000000</td>\n",
       "      <td>     145.000000</td>\n",
       "      <td>     145.000000</td>\n",
       "      <td>     145.000000</td>\n",
       "      <td>    145.000000</td>\n",
       "      <td>      145.000000</td>\n",
       "      <td>      145.000000</td>\n",
       "      <td>    145.000000</td>\n",
       "    </tr>\n",
       "    <tr>\n",
       "      <th>mean</th>\n",
       "      <td> 2.243477e+06</td>\n",
       "      <td>  184167.096552</td>\n",
       "      <td>  671335.303448</td>\n",
       "      <td>  220557.903448</td>\n",
       "      <td> -192347.524138</td>\n",
       "      <td>  334633.986207</td>\n",
       "      <td>  35131.372414</td>\n",
       "      <td>   578793.103448</td>\n",
       "      <td>   295210.020690</td>\n",
       "      <td>   9911.489655</td>\n",
       "    </tr>\n",
       "    <tr>\n",
       "      <th>std</th>\n",
       "      <td> 8.817819e+06</td>\n",
       "      <td>  196959.768365</td>\n",
       "      <td> 1230147.632511</td>\n",
       "      <td>  751704.629341</td>\n",
       "      <td>  604117.425636</td>\n",
       "      <td>  685363.855952</td>\n",
       "      <td>  45247.175705</td>\n",
       "      <td>  6771011.748312</td>\n",
       "      <td>  1127404.270001</td>\n",
       "      <td>  31202.712940</td>\n",
       "    </tr>\n",
       "    <tr>\n",
       "      <th>min</th>\n",
       "      <td> 0.000000e+00</td>\n",
       "      <td>       0.000000</td>\n",
       "      <td>       0.000000</td>\n",
       "      <td> -102500.000000</td>\n",
       "      <td>-3504386.000000</td>\n",
       "      <td>       0.000000</td>\n",
       "      <td>      0.000000</td>\n",
       "      <td>        0.000000</td>\n",
       "      <td>        0.000000</td>\n",
       "      <td>      0.000000</td>\n",
       "    </tr>\n",
       "    <tr>\n",
       "      <th>25%</th>\n",
       "      <td> 9.109300e+04</td>\n",
       "      <td>       0.000000</td>\n",
       "      <td>       0.000000</td>\n",
       "      <td>       0.000000</td>\n",
       "      <td>  -36666.000000</td>\n",
       "      <td>       0.000000</td>\n",
       "      <td>      0.000000</td>\n",
       "      <td>        0.000000</td>\n",
       "      <td>        0.000000</td>\n",
       "      <td>      0.000000</td>\n",
       "    </tr>\n",
       "    <tr>\n",
       "      <th>50%</th>\n",
       "      <td> 9.161970e+05</td>\n",
       "      <td>  210500.000000</td>\n",
       "      <td>  300000.000000</td>\n",
       "      <td>       0.000000</td>\n",
       "      <td>       0.000000</td>\n",
       "      <td>       0.000000</td>\n",
       "      <td>  18834.000000</td>\n",
       "      <td>        0.000000</td>\n",
       "      <td>      947.000000</td>\n",
       "      <td>      0.000000</td>\n",
       "    </tr>\n",
       "    <tr>\n",
       "      <th>75%</th>\n",
       "      <td> 1.934359e+06</td>\n",
       "      <td>  269076.000000</td>\n",
       "      <td>  800000.000000</td>\n",
       "      <td>    7961.000000</td>\n",
       "      <td>       0.000000</td>\n",
       "      <td>  374347.000000</td>\n",
       "      <td>  53122.000000</td>\n",
       "      <td>        0.000000</td>\n",
       "      <td>   150458.000000</td>\n",
       "      <td>      0.000000</td>\n",
       "    </tr>\n",
       "    <tr>\n",
       "      <th>max</th>\n",
       "      <td> 1.035598e+08</td>\n",
       "      <td> 1111258.000000</td>\n",
       "      <td> 8000000.000000</td>\n",
       "      <td> 6426990.000000</td>\n",
       "      <td>       0.000000</td>\n",
       "      <td> 5145434.000000</td>\n",
       "      <td> 228763.000000</td>\n",
       "      <td> 81525000.000000</td>\n",
       "      <td> 10359729.000000</td>\n",
       "      <td> 137864.000000</td>\n",
       "    </tr>\n",
       "  </tbody>\n",
       "</table>\n",
       "</div>"
      ],
      "text/plain": [
       "       total_payments          salary           bonus  deferral_payments  \\\n",
       "count    1.450000e+02      145.000000      145.000000         145.000000   \n",
       "mean     2.243477e+06   184167.096552   671335.303448      220557.903448   \n",
       "std      8.817819e+06   196959.768365  1230147.632511      751704.629341   \n",
       "min      0.000000e+00        0.000000        0.000000     -102500.000000   \n",
       "25%      9.109300e+04        0.000000        0.000000           0.000000   \n",
       "50%      9.161970e+05   210500.000000   300000.000000           0.000000   \n",
       "75%      1.934359e+06   269076.000000   800000.000000        7961.000000   \n",
       "max      1.035598e+08  1111258.000000  8000000.000000     6426990.000000   \n",
       "\n",
       "       deferred_income  long_term_incentive       expenses    loan_advances  \\\n",
       "count       145.000000           145.000000     145.000000       145.000000   \n",
       "mean    -192347.524138        334633.986207   35131.372414    578793.103448   \n",
       "std      604117.425636        685363.855952   45247.175705   6771011.748312   \n",
       "min    -3504386.000000             0.000000       0.000000         0.000000   \n",
       "25%      -36666.000000             0.000000       0.000000         0.000000   \n",
       "50%           0.000000             0.000000   18834.000000         0.000000   \n",
       "75%           0.000000        374347.000000   53122.000000         0.000000   \n",
       "max           0.000000       5145434.000000  228763.000000  81525000.000000   \n",
       "\n",
       "                 other  director_fees  \n",
       "count       145.000000     145.000000  \n",
       "mean     295210.020690    9911.489655  \n",
       "std     1127404.270001   31202.712940  \n",
       "min           0.000000       0.000000  \n",
       "25%           0.000000       0.000000  \n",
       "50%         947.000000       0.000000  \n",
       "75%      150458.000000       0.000000  \n",
       "max    10359729.000000  137864.000000  "
      ]
     },
     "execution_count": 395,
     "metadata": {},
     "output_type": "execute_result"
    }
   ],
   "source": [
    "df[money_features].describe()"
   ]
  },
  {
   "cell_type": "code",
   "execution_count": 396,
   "metadata": {
    "collapsed": false
   },
   "outputs": [
    {
     "data": {
      "text/html": [
       "<div style=\"max-height:1000px;max-width:1500px;overflow:auto;\">\n",
       "<table border=\"1\" class=\"dataframe\">\n",
       "  <thead>\n",
       "    <tr style=\"text-align: right;\">\n",
       "      <th></th>\n",
       "      <th>restricted_stock</th>\n",
       "      <th>restricted_stock_deferred</th>\n",
       "      <th>exercised_stock_options</th>\n",
       "      <th>total_stock_value</th>\n",
       "    </tr>\n",
       "  </thead>\n",
       "  <tbody>\n",
       "    <tr>\n",
       "      <th>count</th>\n",
       "      <td>      145.000000</td>\n",
       "      <td>      145.000000</td>\n",
       "      <td>      145.000000</td>\n",
       "      <td>      145.000000</td>\n",
       "    </tr>\n",
       "    <tr>\n",
       "      <th>mean</th>\n",
       "      <td>   862546.386207</td>\n",
       "      <td>    72911.572414</td>\n",
       "      <td>  2061486.103448</td>\n",
       "      <td>  2889718.124138</td>\n",
       "    </tr>\n",
       "    <tr>\n",
       "      <th>std</th>\n",
       "      <td>  2010852.212383</td>\n",
       "      <td>  1297469.064327</td>\n",
       "      <td>  4781941.261994</td>\n",
       "      <td>  6172223.035654</td>\n",
       "    </tr>\n",
       "    <tr>\n",
       "      <th>min</th>\n",
       "      <td> -2604490.000000</td>\n",
       "      <td> -1787380.000000</td>\n",
       "      <td>        0.000000</td>\n",
       "      <td>   -44093.000000</td>\n",
       "    </tr>\n",
       "    <tr>\n",
       "      <th>25%</th>\n",
       "      <td>        0.000000</td>\n",
       "      <td>        0.000000</td>\n",
       "      <td>        0.000000</td>\n",
       "      <td>   221141.000000</td>\n",
       "    </tr>\n",
       "    <tr>\n",
       "      <th>50%</th>\n",
       "      <td>   360528.000000</td>\n",
       "      <td>        0.000000</td>\n",
       "      <td>   607837.000000</td>\n",
       "      <td>   955873.000000</td>\n",
       "    </tr>\n",
       "    <tr>\n",
       "      <th>75%</th>\n",
       "      <td>   698920.000000</td>\n",
       "      <td>        0.000000</td>\n",
       "      <td>  1668260.000000</td>\n",
       "      <td>  2282768.000000</td>\n",
       "    </tr>\n",
       "    <tr>\n",
       "      <th>max</th>\n",
       "      <td> 14761694.000000</td>\n",
       "      <td> 15456290.000000</td>\n",
       "      <td> 34348384.000000</td>\n",
       "      <td> 49110078.000000</td>\n",
       "    </tr>\n",
       "  </tbody>\n",
       "</table>\n",
       "</div>"
      ],
      "text/plain": [
       "       restricted_stock  restricted_stock_deferred  exercised_stock_options  \\\n",
       "count        145.000000                 145.000000               145.000000   \n",
       "mean      862546.386207               72911.572414           2061486.103448   \n",
       "std      2010852.212383             1297469.064327           4781941.261994   \n",
       "min     -2604490.000000            -1787380.000000                 0.000000   \n",
       "25%            0.000000                   0.000000                 0.000000   \n",
       "50%       360528.000000                   0.000000            607837.000000   \n",
       "75%       698920.000000                   0.000000           1668260.000000   \n",
       "max     14761694.000000            15456290.000000          34348384.000000   \n",
       "\n",
       "       total_stock_value  \n",
       "count         145.000000  \n",
       "mean      2889718.124138  \n",
       "std       6172223.035654  \n",
       "min        -44093.000000  \n",
       "25%        221141.000000  \n",
       "50%        955873.000000  \n",
       "75%       2282768.000000  \n",
       "max      49110078.000000  "
      ]
     },
     "execution_count": 396,
     "metadata": {},
     "output_type": "execute_result"
    }
   ],
   "source": [
    "df[stock_features].describe()"
   ]
  },
  {
   "cell_type": "code",
   "execution_count": 397,
   "metadata": {
    "collapsed": false
   },
   "outputs": [
    {
     "data": {
      "text/html": [
       "<div style=\"max-height:1000px;max-width:1500px;overflow:auto;\">\n",
       "<table border=\"1\" class=\"dataframe\">\n",
       "  <thead>\n",
       "    <tr style=\"text-align: right;\">\n",
       "      <th></th>\n",
       "      <th>to_messages</th>\n",
       "      <th>from_messages</th>\n",
       "      <th>shared_receipt_with_poi</th>\n",
       "      <th>from_this_person_to_poi</th>\n",
       "      <th>from_poi_to_this_person</th>\n",
       "    </tr>\n",
       "  </thead>\n",
       "  <tbody>\n",
       "    <tr>\n",
       "      <th>count</th>\n",
       "      <td> 145</td>\n",
       "      <td> 145</td>\n",
       "      <td> 145</td>\n",
       "      <td> 145</td>\n",
       "      <td> 145</td>\n",
       "    </tr>\n",
       "    <tr>\n",
       "      <th>unique</th>\n",
       "      <td>  87</td>\n",
       "      <td>  65</td>\n",
       "      <td>  84</td>\n",
       "      <td>  42</td>\n",
       "      <td>  58</td>\n",
       "    </tr>\n",
       "    <tr>\n",
       "      <th>top</th>\n",
       "      <td> NaN</td>\n",
       "      <td> NaN</td>\n",
       "      <td> NaN</td>\n",
       "      <td> NaN</td>\n",
       "      <td> NaN</td>\n",
       "    </tr>\n",
       "    <tr>\n",
       "      <th>freq</th>\n",
       "      <td>  59</td>\n",
       "      <td>  59</td>\n",
       "      <td>  59</td>\n",
       "      <td>  59</td>\n",
       "      <td>  59</td>\n",
       "    </tr>\n",
       "  </tbody>\n",
       "</table>\n",
       "</div>"
      ],
      "text/plain": [
       "       to_messages from_messages shared_receipt_with_poi  \\\n",
       "count          145           145                     145   \n",
       "unique          87            65                      84   \n",
       "top            NaN           NaN                     NaN   \n",
       "freq            59            59                      59   \n",
       "\n",
       "       from_this_person_to_poi from_poi_to_this_person  \n",
       "count                      145                     145  \n",
       "unique                      42                      58  \n",
       "top                        NaN                     NaN  \n",
       "freq                        59                      59  "
      ]
     },
     "execution_count": 397,
     "metadata": {},
     "output_type": "execute_result"
    }
   ],
   "source": [
    "dfc[email_features].describe()"
   ]
  },
  {
   "cell_type": "markdown",
   "metadata": {},
   "source": [
    "### Missing Values\n",
    "\n",
    "There are many missing values that can be seen from the below counts. However, for all variables, except `email_address`, replacing with zero seems perfectly consistent because having no directors fees, for example, is the same as being paid zero for directors fees."
   ]
  },
  {
   "cell_type": "code",
   "execution_count": 398,
   "metadata": {
    "collapsed": false
   },
   "outputs": [
    {
     "name": "stdout",
     "output_type": "stream",
     "text": [
      "Number of NaN values:\n",
      "\n",
      "bonus 64\n",
      "deferral_payments 107\n",
      "deferred_income 97\n",
      "director_fees 129\n",
      "email_address 34\n",
      "exercised_stock_options 44\n",
      "expenses 51\n",
      "from_messages 59\n",
      "from_poi_to_this_person 59\n",
      "from_this_person_to_poi 59\n",
      "loan_advances 142\n",
      "long_term_incentive 80\n",
      "other 53\n",
      "poi 0\n",
      "restricted_stock 36\n",
      "restricted_stock_deferred 128\n",
      "salary 51\n",
      "shared_receipt_with_poi 59\n",
      "to_messages 59\n",
      "total_payments 21\n",
      "total_stock_value 20\n"
     ]
    }
   ],
   "source": [
    "print \"Number of NaN values:\\n\"\n",
    "for c in dfc.columns: print c, sum(dfc[c]=='NaN')"
   ]
  },
  {
   "cell_type": "markdown",
   "metadata": {},
   "source": [
    "### Outliers\n",
    "\n",
    "There are a number of variables above, with very large maximums that are much greater than the 75th percentile which suggests there are outliers. \n",
    "\n",
    "It's clear from the `total_payments`ranking below, that KENNETH LAY, the chairman is an outlier with total payments about 5 times that of the second highest, MARK FREVERT.\n"
   ]
  },
  {
   "cell_type": "code",
   "execution_count": 399,
   "metadata": {
    "collapsed": false
   },
   "outputs": [
    {
     "name": "stdout",
     "output_type": "stream",
     "text": [
      "                   name  poi  total_payments\n",
      "65        LAY KENNETH L    1       103559793\n",
      "128      FREVERT MARK A    0        17252530\n",
      "117    BHATNAGAR SANJAY    0        15456290\n",
      "43      LAVORATO JOHN J    0        10425757\n",
      "95   SKILLING JEFFREY K    1         8682716\n"
     ]
    }
   ],
   "source": [
    "# print out top 5 for each feature to check for outliers\n",
    "for ff in ['total_payments']:\n",
    "    print df[['name', 'poi', ff]].sort_index(by=ff, ascending = False)[0:5]"
   ]
  },
  {
   "cell_type": "markdown",
   "metadata": {},
   "source": [
    "['loan_advances', 'restricted_stock_deferred'] occur for only a few persons, so eliminate them from the feature set."
   ]
  },
  {
   "cell_type": "code",
   "execution_count": 400,
   "metadata": {
    "collapsed": false
   },
   "outputs": [
    {
     "name": "stdout",
     "output_type": "stream",
     "text": [
      "                        name  poi  loan_advances\n",
      "65             LAY KENNETH L    1       81525000\n",
      "128           FREVERT MARK A    0        2000000\n",
      "100         PICKERING MARK R    0         400000\n",
      "99               GRAY RODNEY    0              0\n",
      "93   PEREIRA PAULO V. FERRAZ    0              0\n",
      "                   name  poi  restricted_stock_deferred\n",
      "117    BHATNAGAR SANJAY    0                   15456290\n",
      "24        BELFER ROBERT    0                      44093\n",
      "0            METTS MARK    0                          0\n",
      "91            COX DAVID    0                          0\n",
      "92   OVERDYKE JR JERE C    0                          0\n"
     ]
    }
   ],
   "source": [
    "# print out top 5 for each feature to check for outliers\n",
    "for ff in ['loan_advances', 'restricted_stock_deferred']:\n",
    "    print df[['name', 'poi', ff]].sort_index(by=ff, ascending = False)[0:5]"
   ]
  },
  {
   "cell_type": "markdown",
   "metadata": {},
   "source": [
    "In summary, the outliers are:\n",
    "\n",
    "- KENNETH LAY, the chairman - outlier on most financial values.\n",
    "\n",
    "- FREVERT MARK A - loan_advances \n",
    "\n",
    "- BHATNAGAR SANJAY - restricted_stock_deferred \n",
    "\n",
    "The `loan_advances` and `restricted_stock_deferred` only appear for a few people. These may be interesting \n",
    "but they won't be common POI indicators. We will drop them from our interesting features which require dropping the second and third names above."
   ]
  },
  {
   "cell_type": "code",
   "execution_count": 401,
   "metadata": {
    "collapsed": false
   },
   "outputs": [],
   "source": [
    "data_dict.pop(\"LAY KENNETH L\", 0)\n",
    "data_dict.pop(\"FREVERT MARK A\", 0)\n",
    "data_dict.pop(\"BHATNAGAR SANJAY\", 0)\n",
    "\n",
    "try:\n",
    "    money_features.remove(\"loan_advances\")\n",
    "except ValueError:\n",
    "    pass\n",
    "\n",
    "try:\n",
    "    money_features.remove(\"restricted_stock_deferred\")\n",
    "except ValueError:\n",
    "    pass"
   ]
  },
  {
   "cell_type": "code",
   "execution_count": 402,
   "metadata": {
    "collapsed": false,
    "scrolled": false
   },
   "outputs": [],
   "source": [
    "## rebuild data frames based on new feature list\n",
    "data = featureFormat(data_dict, features, remove_all_zeroes = False)\n",
    "df = pd.DataFrame(data, columns=features)\n",
    "df['name'] = data_dict.keys()\n",
    "df = df[['name'] + features ]"
   ]
  },
  {
   "cell_type": "markdown",
   "metadata": {},
   "source": [
    "## Question 2 Feature Selection\n",
    "\n",
    "\n",
    "### What features did you end up using in your POI identifier, and what selection process did you use to pick them?  \n",
    "\n",
    "The features from the dataset used were :"
   ]
  },
  {
   "cell_type": "code",
   "execution_count": 403,
   "metadata": {
    "collapsed": false,
    "scrolled": true
   },
   "outputs": [
    {
     "data": {
      "text/plain": [
       "['shared_receipt_with_poi',\n",
       " 'deferred_income',\n",
       " 'salary',\n",
       " 'long_term_incentive',\n",
       " 'expenses',\n",
       " 'exercised_stock_options']"
      ]
     },
     "execution_count": 403,
     "metadata": {},
     "output_type": "execute_result"
    }
   ],
   "source": [
    "top_features"
   ]
  },
  {
   "cell_type": "markdown",
   "metadata": {},
   "source": [
    "The feature selection was made by reviewing correlation matrices for feature groups - money features, stock features and email features. Here are the details"
   ]
  },
  {
   "cell_type": "markdown",
   "metadata": {},
   "source": [
    "#### Correlation of financial features\n",
    "Independence of variables is an important assumption in many of the machine learning algorithms, so use correlation to identify\n",
    "- possible dependent variables\n",
    "- variables with greatest correlation to the class identifier (poi)"
   ]
  },
  {
   "cell_type": "code",
   "execution_count": 404,
   "metadata": {
    "collapsed": false,
    "scrolled": false,
    "size": 1
   },
   "outputs": [
    {
     "data": {
      "text/html": [
       "<div style=\"max-height:1000px;max-width:1500px;overflow:auto;\">\n",
       "<table border=\"1\" class=\"dataframe\">\n",
       "  <thead>\n",
       "    <tr style=\"text-align: right;\">\n",
       "      <th></th>\n",
       "      <th>poi</th>\n",
       "      <th>total_payments</th>\n",
       "      <th>salary</th>\n",
       "      <th>bonus</th>\n",
       "      <th>deferral_payments</th>\n",
       "      <th>deferred_income</th>\n",
       "      <th>long_term_incentive</th>\n",
       "      <th>expenses</th>\n",
       "      <th>other</th>\n",
       "      <th>director_fees</th>\n",
       "    </tr>\n",
       "  </thead>\n",
       "  <tbody>\n",
       "    <tr>\n",
       "      <th>poi</th>\n",
       "      <td> 1.000000</td>\n",
       "      <td> 0.206612</td>\n",
       "      <td> 0.324657</td>\n",
       "      <td> 0.305041</td>\n",
       "      <td> 0.025300</td>\n",
       "      <td> 0.325230</td>\n",
       "      <td> 0.197602</td>\n",
       "      <td> 0.188498</td>\n",
       "      <td> 0.053743</td>\n",
       "      <td> 0.114397</td>\n",
       "    </tr>\n",
       "    <tr>\n",
       "      <th>deferred_income</th>\n",
       "      <td> 0.325230</td>\n",
       "      <td> 0.160506</td>\n",
       "      <td> 0.210001</td>\n",
       "      <td> 0.352805</td>\n",
       "      <td> 0.369370</td>\n",
       "      <td> 1.000000</td>\n",
       "      <td> 0.272131</td>\n",
       "      <td> 0.002818</td>\n",
       "      <td> 0.054666</td>\n",
       "      <td> 0.065057</td>\n",
       "    </tr>\n",
       "    <tr>\n",
       "      <th>salary</th>\n",
       "      <td> 0.324657</td>\n",
       "      <td> 0.632595</td>\n",
       "      <td> 1.000000</td>\n",
       "      <td> 0.594980</td>\n",
       "      <td> 0.024279</td>\n",
       "      <td> 0.210001</td>\n",
       "      <td> 0.457967</td>\n",
       "      <td> 0.334952</td>\n",
       "      <td> 0.181254</td>\n",
       "      <td> 0.320729</td>\n",
       "    </tr>\n",
       "    <tr>\n",
       "      <th>bonus</th>\n",
       "      <td> 0.305041</td>\n",
       "      <td> 0.802158</td>\n",
       "      <td> 0.594980</td>\n",
       "      <td> 1.000000</td>\n",
       "      <td> 0.171410</td>\n",
       "      <td> 0.352805</td>\n",
       "      <td> 0.384315</td>\n",
       "      <td> 0.209364</td>\n",
       "      <td> 0.033491</td>\n",
       "      <td> 0.173695</td>\n",
       "    </tr>\n",
       "    <tr>\n",
       "      <th>total_payments</th>\n",
       "      <td> 0.206612</td>\n",
       "      <td> 1.000000</td>\n",
       "      <td> 0.632595</td>\n",
       "      <td> 0.802158</td>\n",
       "      <td> 0.313233</td>\n",
       "      <td> 0.160506</td>\n",
       "      <td> 0.687409</td>\n",
       "      <td> 0.167229</td>\n",
       "      <td> 0.438909</td>\n",
       "      <td> 0.229963</td>\n",
       "    </tr>\n",
       "    <tr>\n",
       "      <th>long_term_incentive</th>\n",
       "      <td> 0.197602</td>\n",
       "      <td> 0.687409</td>\n",
       "      <td> 0.457967</td>\n",
       "      <td> 0.384315</td>\n",
       "      <td> 0.016748</td>\n",
       "      <td> 0.272131</td>\n",
       "      <td> 1.000000</td>\n",
       "      <td> 0.039198</td>\n",
       "      <td> 0.423743</td>\n",
       "      <td> 0.151872</td>\n",
       "    </tr>\n",
       "    <tr>\n",
       "      <th>expenses</th>\n",
       "      <td> 0.188498</td>\n",
       "      <td> 0.167229</td>\n",
       "      <td> 0.334952</td>\n",
       "      <td> 0.209364</td>\n",
       "      <td> 0.120961</td>\n",
       "      <td> 0.002818</td>\n",
       "      <td> 0.039198</td>\n",
       "      <td> 1.000000</td>\n",
       "      <td> 0.007211</td>\n",
       "      <td> 0.116632</td>\n",
       "    </tr>\n",
       "    <tr>\n",
       "      <th>director_fees</th>\n",
       "      <td> 0.114397</td>\n",
       "      <td> 0.229963</td>\n",
       "      <td> 0.320729</td>\n",
       "      <td> 0.173695</td>\n",
       "      <td> 0.101317</td>\n",
       "      <td> 0.065057</td>\n",
       "      <td> 0.151872</td>\n",
       "      <td> 0.116632</td>\n",
       "      <td> 0.120698</td>\n",
       "      <td> 1.000000</td>\n",
       "    </tr>\n",
       "    <tr>\n",
       "      <th>other</th>\n",
       "      <td> 0.053743</td>\n",
       "      <td> 0.438909</td>\n",
       "      <td> 0.181254</td>\n",
       "      <td> 0.033491</td>\n",
       "      <td> 0.004770</td>\n",
       "      <td> 0.054666</td>\n",
       "      <td> 0.423743</td>\n",
       "      <td> 0.007211</td>\n",
       "      <td> 1.000000</td>\n",
       "      <td> 0.120698</td>\n",
       "    </tr>\n",
       "    <tr>\n",
       "      <th>deferral_payments</th>\n",
       "      <td> 0.025300</td>\n",
       "      <td> 0.313233</td>\n",
       "      <td> 0.024279</td>\n",
       "      <td> 0.171410</td>\n",
       "      <td> 1.000000</td>\n",
       "      <td> 0.369370</td>\n",
       "      <td> 0.016748</td>\n",
       "      <td> 0.120961</td>\n",
       "      <td> 0.004770</td>\n",
       "      <td> 0.101317</td>\n",
       "    </tr>\n",
       "  </tbody>\n",
       "</table>\n",
       "</div>"
      ],
      "text/plain": [
       "                          poi  total_payments    salary     bonus  \\\n",
       "poi                  1.000000        0.206612  0.324657  0.305041   \n",
       "deferred_income      0.325230        0.160506  0.210001  0.352805   \n",
       "salary               0.324657        0.632595  1.000000  0.594980   \n",
       "bonus                0.305041        0.802158  0.594980  1.000000   \n",
       "total_payments       0.206612        1.000000  0.632595  0.802158   \n",
       "long_term_incentive  0.197602        0.687409  0.457967  0.384315   \n",
       "expenses             0.188498        0.167229  0.334952  0.209364   \n",
       "director_fees        0.114397        0.229963  0.320729  0.173695   \n",
       "other                0.053743        0.438909  0.181254  0.033491   \n",
       "deferral_payments    0.025300        0.313233  0.024279  0.171410   \n",
       "\n",
       "                     deferral_payments  deferred_income  long_term_incentive  \\\n",
       "poi                           0.025300         0.325230             0.197602   \n",
       "deferred_income               0.369370         1.000000             0.272131   \n",
       "salary                        0.024279         0.210001             0.457967   \n",
       "bonus                         0.171410         0.352805             0.384315   \n",
       "total_payments                0.313233         0.160506             0.687409   \n",
       "long_term_incentive           0.016748         0.272131             1.000000   \n",
       "expenses                      0.120961         0.002818             0.039198   \n",
       "director_fees                 0.101317         0.065057             0.151872   \n",
       "other                         0.004770         0.054666             0.423743   \n",
       "deferral_payments             1.000000         0.369370             0.016748   \n",
       "\n",
       "                     expenses     other  director_fees  \n",
       "poi                  0.188498  0.053743       0.114397  \n",
       "deferred_income      0.002818  0.054666       0.065057  \n",
       "salary               0.334952  0.181254       0.320729  \n",
       "bonus                0.209364  0.033491       0.173695  \n",
       "total_payments       0.167229  0.438909       0.229963  \n",
       "long_term_incentive  0.039198  0.423743       0.151872  \n",
       "expenses             1.000000  0.007211       0.116632  \n",
       "director_fees        0.116632  0.120698       1.000000  \n",
       "other                0.007211  1.000000       0.120698  \n",
       "deferral_payments    0.120961  0.004770       0.101317  "
      ]
     },
     "execution_count": 404,
     "metadata": {},
     "output_type": "execute_result"
    }
   ],
   "source": [
    "df_money_corr1 = df[ ['poi'] + money_features].corr().apply(abs).sort(columns='poi', ascending=False)\n",
    "df_money_corr1"
   ]
  },
  {
   "cell_type": "markdown",
   "metadata": {},
   "source": [
    "As may be expected, there is a lot of correlation amongst many values. For example bonus is often a function of salary and this indicated by the 0.65 correlation coefficient.  'total_payments' is a sum of the others so there will definitely be a non-meaningful correlation. So we will\n",
    "\n",
    "- drop `bonus` and keep `salary`\n",
    "- drop `total_payments` because it is a total of others"
   ]
  },
  {
   "cell_type": "code",
   "execution_count": 405,
   "metadata": {
    "collapsed": false
   },
   "outputs": [
    {
     "name": "stdout",
     "output_type": "stream",
     "text": [
      "['deferred_income', 'salary', 'long_term_incentive', 'expenses']\n"
     ]
    },
    {
     "data": {
      "text/html": [
       "<div style=\"max-height:1000px;max-width:1500px;overflow:auto;\">\n",
       "<table border=\"1\" class=\"dataframe\">\n",
       "  <thead>\n",
       "    <tr style=\"text-align: right;\">\n",
       "      <th></th>\n",
       "      <th>poi</th>\n",
       "      <th>deferred_income</th>\n",
       "      <th>salary</th>\n",
       "      <th>long_term_incentive</th>\n",
       "      <th>expenses</th>\n",
       "    </tr>\n",
       "  </thead>\n",
       "  <tbody>\n",
       "    <tr>\n",
       "      <th>poi</th>\n",
       "      <td> 1.000000</td>\n",
       "      <td> 0.325230</td>\n",
       "      <td> 0.324657</td>\n",
       "      <td> 0.197602</td>\n",
       "      <td> 0.188498</td>\n",
       "    </tr>\n",
       "    <tr>\n",
       "      <th>deferred_income</th>\n",
       "      <td> 0.325230</td>\n",
       "      <td> 1.000000</td>\n",
       "      <td> 0.210001</td>\n",
       "      <td> 0.272131</td>\n",
       "      <td> 0.002818</td>\n",
       "    </tr>\n",
       "    <tr>\n",
       "      <th>salary</th>\n",
       "      <td> 0.324657</td>\n",
       "      <td> 0.210001</td>\n",
       "      <td> 1.000000</td>\n",
       "      <td> 0.457967</td>\n",
       "      <td> 0.334952</td>\n",
       "    </tr>\n",
       "    <tr>\n",
       "      <th>long_term_incentive</th>\n",
       "      <td> 0.197602</td>\n",
       "      <td> 0.272131</td>\n",
       "      <td> 0.457967</td>\n",
       "      <td> 1.000000</td>\n",
       "      <td> 0.039198</td>\n",
       "    </tr>\n",
       "    <tr>\n",
       "      <th>expenses</th>\n",
       "      <td> 0.188498</td>\n",
       "      <td> 0.002818</td>\n",
       "      <td> 0.334952</td>\n",
       "      <td> 0.039198</td>\n",
       "      <td> 1.000000</td>\n",
       "    </tr>\n",
       "  </tbody>\n",
       "</table>\n",
       "</div>"
      ],
      "text/plain": [
       "                          poi  deferred_income    salary  long_term_incentive  \\\n",
       "poi                  1.000000         0.325230  0.324657             0.197602   \n",
       "deferred_income      0.325230         1.000000  0.210001             0.272131   \n",
       "salary               0.324657         0.210001  1.000000             0.457967   \n",
       "long_term_incentive  0.197602         0.272131  0.457967             1.000000   \n",
       "expenses             0.188498         0.002818  0.334952             0.039198   \n",
       "\n",
       "                     expenses  \n",
       "poi                  0.188498  \n",
       "deferred_income      0.002818  \n",
       "salary               0.334952  \n",
       "long_term_incentive  0.039198  \n",
       "expenses             1.000000  "
      ]
     },
     "execution_count": 405,
     "metadata": {},
     "output_type": "execute_result"
    }
   ],
   "source": [
    "top_money_features = list(df_money_corr1.index[1:3]) + list(df_money_corr1.index[5:7])\n",
    "print top_money_features\n",
    "df_money_corr2 = df[ ['poi'] + top_money_features].corr().apply(abs).sort(columns='poi', ascending=False)\n",
    "df_money_corr2"
   ]
  },
  {
   "cell_type": "markdown",
   "metadata": {},
   "source": [
    "#### Correlation of stock features"
   ]
  },
  {
   "cell_type": "code",
   "execution_count": 406,
   "metadata": {
    "collapsed": false,
    "scrolled": true
   },
   "outputs": [
    {
     "data": {
      "text/html": [
       "<div style=\"max-height:1000px;max-width:1500px;overflow:auto;\">\n",
       "<table border=\"1\" class=\"dataframe\">\n",
       "  <thead>\n",
       "    <tr style=\"text-align: right;\">\n",
       "      <th></th>\n",
       "      <th>poi</th>\n",
       "      <th>restricted_stock</th>\n",
       "      <th>restricted_stock_deferred</th>\n",
       "      <th>exercised_stock_options</th>\n",
       "      <th>total_stock_value</th>\n",
       "    </tr>\n",
       "  </thead>\n",
       "  <tbody>\n",
       "    <tr>\n",
       "      <th>poi</th>\n",
       "      <td> 1.000000</td>\n",
       "      <td> 0.157551</td>\n",
       "      <td> 0.074473</td>\n",
       "      <td> 0.339236</td>\n",
       "      <td> 0.336074</td>\n",
       "    </tr>\n",
       "    <tr>\n",
       "      <th>exercised_stock_options</th>\n",
       "      <td> 0.339236</td>\n",
       "      <td> 0.377307</td>\n",
       "      <td> 0.122813</td>\n",
       "      <td> 1.000000</td>\n",
       "      <td> 0.948783</td>\n",
       "    </tr>\n",
       "    <tr>\n",
       "      <th>total_stock_value</th>\n",
       "      <td> 0.336074</td>\n",
       "      <td> 0.648689</td>\n",
       "      <td> 0.077970</td>\n",
       "      <td> 0.948783</td>\n",
       "      <td> 1.000000</td>\n",
       "    </tr>\n",
       "    <tr>\n",
       "      <th>restricted_stock</th>\n",
       "      <td> 0.157551</td>\n",
       "      <td> 1.000000</td>\n",
       "      <td> 0.036967</td>\n",
       "      <td> 0.377307</td>\n",
       "      <td> 0.648689</td>\n",
       "    </tr>\n",
       "    <tr>\n",
       "      <th>restricted_stock_deferred</th>\n",
       "      <td> 0.074473</td>\n",
       "      <td> 0.036967</td>\n",
       "      <td> 1.000000</td>\n",
       "      <td> 0.122813</td>\n",
       "      <td> 0.077970</td>\n",
       "    </tr>\n",
       "  </tbody>\n",
       "</table>\n",
       "</div>"
      ],
      "text/plain": [
       "                                poi  restricted_stock  \\\n",
       "poi                        1.000000          0.157551   \n",
       "exercised_stock_options    0.339236          0.377307   \n",
       "total_stock_value          0.336074          0.648689   \n",
       "restricted_stock           0.157551          1.000000   \n",
       "restricted_stock_deferred  0.074473          0.036967   \n",
       "\n",
       "                           restricted_stock_deferred  exercised_stock_options  \\\n",
       "poi                                         0.074473                 0.339236   \n",
       "exercised_stock_options                     0.122813                 1.000000   \n",
       "total_stock_value                           0.077970                 0.948783   \n",
       "restricted_stock                            0.036967                 0.377307   \n",
       "restricted_stock_deferred                   1.000000                 0.122813   \n",
       "\n",
       "                           total_stock_value  \n",
       "poi                                 0.336074  \n",
       "exercised_stock_options             0.948783  \n",
       "total_stock_value                   1.000000  \n",
       "restricted_stock                    0.648689  \n",
       "restricted_stock_deferred           0.077970  "
      ]
     },
     "execution_count": 406,
     "metadata": {},
     "output_type": "execute_result"
    }
   ],
   "source": [
    "df_stock_corr1 = df[['poi'] + stock_features].corr().apply(abs).sort(columns='poi', ascending=False)\n",
    "df_stock_corr1"
   ]
  },
  {
   "cell_type": "markdown",
   "metadata": {},
   "source": [
    "The two top correlations with `poi`, `exercised_stock_options` and `total_stock_value`  are themselves strongly correlated so we will choose only one stock feature."
   ]
  },
  {
   "cell_type": "code",
   "execution_count": 407,
   "metadata": {
    "collapsed": false
   },
   "outputs": [
    {
     "data": {
      "text/html": [
       "<div style=\"max-height:1000px;max-width:1500px;overflow:auto;\">\n",
       "<table border=\"1\" class=\"dataframe\">\n",
       "  <thead>\n",
       "    <tr style=\"text-align: right;\">\n",
       "      <th></th>\n",
       "      <th>poi</th>\n",
       "      <th>exercised_stock_options</th>\n",
       "    </tr>\n",
       "  </thead>\n",
       "  <tbody>\n",
       "    <tr>\n",
       "      <th>poi</th>\n",
       "      <td> 1.000000</td>\n",
       "      <td> 0.339236</td>\n",
       "    </tr>\n",
       "    <tr>\n",
       "      <th>exercised_stock_options</th>\n",
       "      <td> 0.339236</td>\n",
       "      <td> 1.000000</td>\n",
       "    </tr>\n",
       "  </tbody>\n",
       "</table>\n",
       "</div>"
      ],
      "text/plain": [
       "                              poi  exercised_stock_options\n",
       "poi                      1.000000                 0.339236\n",
       "exercised_stock_options  0.339236                 1.000000"
      ]
     },
     "execution_count": 407,
     "metadata": {},
     "output_type": "execute_result"
    }
   ],
   "source": [
    "top_stock_features = ['exercised_stock_options']\n",
    "df_stock_corr2 = df[['poi'] + top_stock_features].corr().apply(abs).sort(columns='poi', ascending=False)\n",
    "df_stock_corr2"
   ]
  },
  {
   "cell_type": "markdown",
   "metadata": {},
   "source": [
    "#### Correlation of email features"
   ]
  },
  {
   "cell_type": "code",
   "execution_count": 408,
   "metadata": {
    "collapsed": false,
    "scrolled": true
   },
   "outputs": [
    {
     "data": {
      "text/html": [
       "<div style=\"max-height:1000px;max-width:1500px;overflow:auto;\">\n",
       "<table border=\"1\" class=\"dataframe\">\n",
       "  <thead>\n",
       "    <tr style=\"text-align: right;\">\n",
       "      <th></th>\n",
       "      <th>poi</th>\n",
       "      <th>to_messages</th>\n",
       "      <th>from_messages</th>\n",
       "      <th>shared_receipt_with_poi</th>\n",
       "      <th>from_this_person_to_poi</th>\n",
       "      <th>from_poi_to_this_person</th>\n",
       "    </tr>\n",
       "  </thead>\n",
       "  <tbody>\n",
       "    <tr>\n",
       "      <th>poi</th>\n",
       "      <td> 1.000000</td>\n",
       "      <td> 0.089488</td>\n",
       "      <td> 0.031135</td>\n",
       "      <td> 0.228966</td>\n",
       "      <td> 0.134489</td>\n",
       "      <td> 0.186784</td>\n",
       "    </tr>\n",
       "    <tr>\n",
       "      <th>shared_receipt_with_poi</th>\n",
       "      <td> 0.228966</td>\n",
       "      <td> 0.883171</td>\n",
       "      <td> 0.315983</td>\n",
       "      <td> 1.000000</td>\n",
       "      <td> 0.543413</td>\n",
       "      <td> 0.720117</td>\n",
       "    </tr>\n",
       "    <tr>\n",
       "      <th>from_poi_to_this_person</th>\n",
       "      <td> 0.186784</td>\n",
       "      <td> 0.615348</td>\n",
       "      <td> 0.268780</td>\n",
       "      <td> 0.720117</td>\n",
       "      <td> 0.519917</td>\n",
       "      <td> 1.000000</td>\n",
       "    </tr>\n",
       "    <tr>\n",
       "      <th>from_this_person_to_poi</th>\n",
       "      <td> 0.134489</td>\n",
       "      <td> 0.613922</td>\n",
       "      <td> 0.609422</td>\n",
       "      <td> 0.543413</td>\n",
       "      <td> 1.000000</td>\n",
       "      <td> 0.519917</td>\n",
       "    </tr>\n",
       "    <tr>\n",
       "      <th>to_messages</th>\n",
       "      <td> 0.089488</td>\n",
       "      <td> 1.000000</td>\n",
       "      <td> 0.517079</td>\n",
       "      <td> 0.883171</td>\n",
       "      <td> 0.613922</td>\n",
       "      <td> 0.615348</td>\n",
       "    </tr>\n",
       "    <tr>\n",
       "      <th>from_messages</th>\n",
       "      <td> 0.031135</td>\n",
       "      <td> 0.517079</td>\n",
       "      <td> 1.000000</td>\n",
       "      <td> 0.315983</td>\n",
       "      <td> 0.609422</td>\n",
       "      <td> 0.268780</td>\n",
       "    </tr>\n",
       "  </tbody>\n",
       "</table>\n",
       "</div>"
      ],
      "text/plain": [
       "                              poi  to_messages  from_messages  \\\n",
       "poi                      1.000000     0.089488       0.031135   \n",
       "shared_receipt_with_poi  0.228966     0.883171       0.315983   \n",
       "from_poi_to_this_person  0.186784     0.615348       0.268780   \n",
       "from_this_person_to_poi  0.134489     0.613922       0.609422   \n",
       "to_messages              0.089488     1.000000       0.517079   \n",
       "from_messages            0.031135     0.517079       1.000000   \n",
       "\n",
       "                         shared_receipt_with_poi  from_this_person_to_poi  \\\n",
       "poi                                     0.228966                 0.134489   \n",
       "shared_receipt_with_poi                 1.000000                 0.543413   \n",
       "from_poi_to_this_person                 0.720117                 0.519917   \n",
       "from_this_person_to_poi                 0.543413                 1.000000   \n",
       "to_messages                             0.883171                 0.613922   \n",
       "from_messages                           0.315983                 0.609422   \n",
       "\n",
       "                         from_poi_to_this_person  \n",
       "poi                                     0.186784  \n",
       "shared_receipt_with_poi                 0.720117  \n",
       "from_poi_to_this_person                 1.000000  \n",
       "from_this_person_to_poi                 0.519917  \n",
       "to_messages                             0.615348  \n",
       "from_messages                           0.268780  "
      ]
     },
     "execution_count": 408,
     "metadata": {},
     "output_type": "execute_result"
    }
   ],
   "source": [
    "df_email_corr1 = df[['poi'] + email_features].corr().apply(abs).sort(columns='poi', ascending=False)\n",
    "df_email_corr1"
   ]
  },
  {
   "cell_type": "markdown",
   "metadata": {},
   "source": [
    "The strongest is `shared_receipt_with_poi` at 0.22\n",
    "\n",
    "The higher correlation between `to_messages` and `from_this_person_to_poi` of 0.61 is intuitive and not that useful. If a person sent many emails then many went to the poi. The 'correlation between `from_poi_to_this_person` and \n",
    "`shared_receipt_with_poi` forces use of only the latter.\n",
    "\n",
    "Selecting the most meaningful email features"
   ]
  },
  {
   "cell_type": "code",
   "execution_count": 409,
   "metadata": {
    "collapsed": false
   },
   "outputs": [
    {
     "name": "stdout",
     "output_type": "stream",
     "text": [
      "['shared_receipt_with_poi']\n"
     ]
    },
    {
     "data": {
      "text/html": [
       "<div style=\"max-height:1000px;max-width:1500px;overflow:auto;\">\n",
       "<table border=\"1\" class=\"dataframe\">\n",
       "  <thead>\n",
       "    <tr style=\"text-align: right;\">\n",
       "      <th></th>\n",
       "      <th>poi</th>\n",
       "      <th>shared_receipt_with_poi</th>\n",
       "    </tr>\n",
       "  </thead>\n",
       "  <tbody>\n",
       "    <tr>\n",
       "      <th>poi</th>\n",
       "      <td> 1.000000</td>\n",
       "      <td> 0.228966</td>\n",
       "    </tr>\n",
       "    <tr>\n",
       "      <th>shared_receipt_with_poi</th>\n",
       "      <td> 0.228966</td>\n",
       "      <td> 1.000000</td>\n",
       "    </tr>\n",
       "  </tbody>\n",
       "</table>\n",
       "</div>"
      ],
      "text/plain": [
       "                              poi  shared_receipt_with_poi\n",
       "poi                      1.000000                 0.228966\n",
       "shared_receipt_with_poi  0.228966                 1.000000"
      ]
     },
     "execution_count": 409,
     "metadata": {},
     "output_type": "execute_result"
    }
   ],
   "source": [
    "top_email_features = list(df_email_corr1.index[1:2])\n",
    "print top_email_features\n",
    "df_email_corr2 = df[['poi'] + top_email_features].corr().apply(abs).sort(columns='poi', ascending=False)\n",
    "df_email_corr2"
   ]
  },
  {
   "cell_type": "markdown",
   "metadata": {},
   "source": [
    "#### Final Correlation of selected features\n",
    "\n",
    "A quick sanity check of the selected features "
   ]
  },
  {
   "cell_type": "code",
   "execution_count": 410,
   "metadata": {
    "collapsed": false
   },
   "outputs": [
    {
     "data": {
      "text/html": [
       "<div style=\"max-height:1000px;max-width:1500px;overflow:auto;\">\n",
       "<table border=\"1\" class=\"dataframe\">\n",
       "  <thead>\n",
       "    <tr style=\"text-align: right;\">\n",
       "      <th></th>\n",
       "      <th>poi</th>\n",
       "      <th>shared_receipt_with_poi</th>\n",
       "      <th>deferred_income</th>\n",
       "      <th>salary</th>\n",
       "      <th>long_term_incentive</th>\n",
       "      <th>expenses</th>\n",
       "      <th>exercised_stock_options</th>\n",
       "    </tr>\n",
       "  </thead>\n",
       "  <tbody>\n",
       "    <tr>\n",
       "      <th>poi</th>\n",
       "      <td> 1.000000</td>\n",
       "      <td> 0.228966</td>\n",
       "      <td>-0.325230</td>\n",
       "      <td> 0.324657</td>\n",
       "      <td> 0.197602</td>\n",
       "      <td> 0.188498</td>\n",
       "      <td> 0.339236</td>\n",
       "    </tr>\n",
       "    <tr>\n",
       "      <th>exercised_stock_options</th>\n",
       "      <td> 0.339236</td>\n",
       "      <td> 0.033446</td>\n",
       "      <td>-0.268103</td>\n",
       "      <td> 0.267087</td>\n",
       "      <td> 0.207501</td>\n",
       "      <td> 0.054372</td>\n",
       "      <td> 1.000000</td>\n",
       "    </tr>\n",
       "    <tr>\n",
       "      <th>salary</th>\n",
       "      <td> 0.324657</td>\n",
       "      <td> 0.480924</td>\n",
       "      <td>-0.210001</td>\n",
       "      <td> 1.000000</td>\n",
       "      <td> 0.457967</td>\n",
       "      <td> 0.334952</td>\n",
       "      <td> 0.267087</td>\n",
       "    </tr>\n",
       "    <tr>\n",
       "      <th>shared_receipt_with_poi</th>\n",
       "      <td> 0.228966</td>\n",
       "      <td> 1.000000</td>\n",
       "      <td>-0.179430</td>\n",
       "      <td> 0.480924</td>\n",
       "      <td> 0.226764</td>\n",
       "      <td> 0.266557</td>\n",
       "      <td> 0.033446</td>\n",
       "    </tr>\n",
       "    <tr>\n",
       "      <th>long_term_incentive</th>\n",
       "      <td> 0.197602</td>\n",
       "      <td> 0.226764</td>\n",
       "      <td>-0.272131</td>\n",
       "      <td> 0.457967</td>\n",
       "      <td> 1.000000</td>\n",
       "      <td> 0.039198</td>\n",
       "      <td> 0.207501</td>\n",
       "    </tr>\n",
       "    <tr>\n",
       "      <th>expenses</th>\n",
       "      <td> 0.188498</td>\n",
       "      <td> 0.266557</td>\n",
       "      <td> 0.002818</td>\n",
       "      <td> 0.334952</td>\n",
       "      <td> 0.039198</td>\n",
       "      <td> 1.000000</td>\n",
       "      <td> 0.054372</td>\n",
       "    </tr>\n",
       "    <tr>\n",
       "      <th>deferred_income</th>\n",
       "      <td>-0.325230</td>\n",
       "      <td>-0.179430</td>\n",
       "      <td> 1.000000</td>\n",
       "      <td>-0.210001</td>\n",
       "      <td>-0.272131</td>\n",
       "      <td> 0.002818</td>\n",
       "      <td>-0.268103</td>\n",
       "    </tr>\n",
       "  </tbody>\n",
       "</table>\n",
       "</div>"
      ],
      "text/plain": [
       "                              poi  shared_receipt_with_poi  deferred_income  \\\n",
       "poi                      1.000000                 0.228966        -0.325230   \n",
       "exercised_stock_options  0.339236                 0.033446        -0.268103   \n",
       "salary                   0.324657                 0.480924        -0.210001   \n",
       "shared_receipt_with_poi  0.228966                 1.000000        -0.179430   \n",
       "long_term_incentive      0.197602                 0.226764        -0.272131   \n",
       "expenses                 0.188498                 0.266557         0.002818   \n",
       "deferred_income         -0.325230                -0.179430         1.000000   \n",
       "\n",
       "                           salary  long_term_incentive  expenses  \\\n",
       "poi                      0.324657             0.197602  0.188498   \n",
       "exercised_stock_options  0.267087             0.207501  0.054372   \n",
       "salary                   1.000000             0.457967  0.334952   \n",
       "shared_receipt_with_poi  0.480924             0.226764  0.266557   \n",
       "long_term_incentive      0.457967             1.000000  0.039198   \n",
       "expenses                 0.334952             0.039198  1.000000   \n",
       "deferred_income         -0.210001            -0.272131  0.002818   \n",
       "\n",
       "                         exercised_stock_options  \n",
       "poi                                     0.339236  \n",
       "exercised_stock_options                 1.000000  \n",
       "salary                                  0.267087  \n",
       "shared_receipt_with_poi                 0.033446  \n",
       "long_term_incentive                     0.207501  \n",
       "expenses                                0.054372  \n",
       "deferred_income                        -0.268103  "
      ]
     },
     "execution_count": 410,
     "metadata": {},
     "output_type": "execute_result"
    }
   ],
   "source": [
    "top_features = top_email_features + top_money_features + top_stock_features\n",
    "df[class_features + top_features].corr().sort(columns='poi', ascending=False)"
   ]
  },
  {
   "cell_type": "markdown",
   "metadata": {},
   "source": [
    "### Did you have to do any scaling?  \n",
    "\n",
    "Scaling was attempted but this yielded sightly poorer results. Code for scaling is in `poi_id.py` and the detailed results will be presented below. "
   ]
  },
  {
   "cell_type": "markdown",
   "metadata": {},
   "source": [
    "### Did you create new features?\n",
    "\n",
    "A new feature, based on email text analysis was created. The code is in `filter_email2.py`\n",
    "\n",
    "The new feature, named email_poi, is built as follows:\n",
    "\n",
    "- Email sent by all persons is munged into a single dictionary. Trials showed that using the sent emails only produced better predictions than all the email\n",
    "- Each message is split to remove forwarded/replied text using \"-----\" as delimiter. This makes the text more personal to the sender.\n",
    "- Email text is pipelined through a CountVectorizer, TfidTransformer, and SGDClassifier. Trials showed the SGD Classifier producing better results than Naive Bayes.\n",
    "- GridSearchCV is used to tune the classifier and find an optimal result\n",
    "\n",
    "This proved to be a reasonably effective classifier producing F1 scores of 0.74 on the full dataset.\n",
    "\n",
    "A new feature is derived from the predicted label from this text classifier.The new feature is:\n",
    "\n",
    "poi_email:  -1: no email, 0: no poi signal, 1: poi signal\n",
    "\n",
    "The revised dataset is `final_project_dataset_augmented_email_poi.pkl`\n"
   ]
  },
  {
   "cell_type": "markdown",
   "metadata": {},
   "source": [
    "## Question 3 Algorithm\n",
    "\n",
    "###What algorithm did you end up using? \n",
    "\n",
    "For the poi prediction K-Means produced the most accurate results based on F1 scores. \n",
    "\n",
    "For initial, untuned algorithm selection, the following results were obtained.\n",
    "\n",
    "Algorithm | F1 score\n",
    "------------ | -------------\n",
    "DecisionTreeClassifier | 0.33351\n",
    "Guassian NB | 0.37913\n",
    "K-Means | 0.91141\n",
    "\n",
    "SVC, K-neighbors and Adaboost were lower but the training datasets produced limited positives and f1 score calculation failed. \n",
    "\n",
    "These results were sensitive to the particular training sample. Choosing different `random_state` when splitting the test/train sets produced substantial variation, most likely due to sampling 25% from what is a very small dataset of only 145 observations with 18 poi'sa\n",
    "\n",
    "For the DecisionTreeClassifier the Feature Importances were:\n",
    "\n",
    "feature  |importance\n",
    "------- | ----------\n",
    "4                 expenses    |0.395600\n",
    "5  exercised_stock_options    |0.287234\n",
    "1          deferred_income    |0.109534\n",
    "0  shared_receipt_with_poi    |0.098594\n",
    "2                   salary    |0.055435\n",
    "3      long_term_incentive    |0.053603\n",
    "\n",
    "###What algorithms did you try?\n",
    " \n",
    "I explored many algorithms and feature combinations -- See Appendix A for details.\n",
    "\n"
   ]
  },
  {
   "cell_type": "markdown",
   "metadata": {},
   "source": [
    "##Question 4  Tuning\n",
    "\n",
    "### What does it mean to tune the parameters of an algorithm, and what can happen if you don’t do this well?\n",
    "\n",
    "Tuning involves choosing values for parameters that influence the operation of the algorithm, while measuring the effectiveness of prediction. During tuning one is also interested in understanding the sensitivity of the parameter changes, and which ones produce the greatest influence. bad parameter choices can lead to sub-optimal results in some cases, the algorithm failing to predict anything at all. \n",
    "\n",
    "### How did you tune the parameters of your particular algorithm?  \n",
    "\n",
    "I did some manual experimentation, but ultimately used a grid search to explore many parameter settings. The grid search tries every parameter value combination and identifies the set that produces the best score. I used the F1 score in scikit learn during grid search. Gridsearch was used on the poi identifier and on the new feature text classifier pipeline.\n",
    "\n",
    "## Question 5 Validation\n",
    "\n",
    "###What is validation, and what’s a classic mistake you can make if you do it wrong?\n",
    "\n",
    "Validation is the process of testing the model for effective prediction on other data that has not been used to train the model. A classic mistake is fitting and testing the model on the same or full dataset. The essence of a predictive model is to predict good results when presented with data that it has never seen before. Effective validation must follow this principle. \n",
    "\n",
    "\n",
    "###How did you validate your analysis?\n",
    "\n",
    "Training samples were 25% of the full dataset, and the remaining 75% was used for validation. The `scikit.metrics.f1_score` scorer was used as well as the `tester.py` that was provided for the project. Because the dataset is small there was substantial variation on specific samples.  Some samples yielded zero poi's which make it impossible to build a model. \n",
    "\n",
    "##Question 6 \n",
    "\n",
    "###Give at least 2 evaluation metrics, and your average performance for each of them.  Explain an interpretation of your metrics that says something human-understandable about your algorithm’s performance\n",
    "\n",
    "\n",
    "The optimal identifer achieved the following scores\n",
    "Accuracy: 0.87800       Precision: 0.87427      Recall: 0.92337 F1: 0.89815     F2: 0.91311\n",
    "Total predictions: 14000        True positives: 7531    False positives: 1083   False negatives:  625   True negatives: 4761\n",
    "\n",
    "The precision score of 0.87 indicates that 87% of the actual pois were identified. Only 13% were missed. If we assume for sake of discussion that all poi's were criminals then we can think of this set as the pois that \"got away\". The recall score of 0.92 indicates that 92% of identified pois were really poi's and that 8% were \"falsely accused\" by the model.\n",
    "\n"
   ]
  },
  {
   "cell_type": "markdown",
   "metadata": {
    "collapsed": true
   },
   "source": [
    "# APPENDIX A - Algorithm trials"
   ]
  },
  {
   "cell_type": "code",
   "execution_count": 427,
   "metadata": {
    "collapsed": false
   },
   "outputs": [
    {
     "data": {
      "text/html": [
       "<script>\n",
       "code_show=true; \n",
       "function code_toggle() {\n",
       " if (code_show){\n",
       " $('div.input').hide();\n",
       " } else {\n",
       " $('div.input').show();\n",
       " }\n",
       " code_show = !code_show\n",
       "} \n",
       "$( document ).ready(code_toggle);\n",
       "</script>\n",
       "<form action=\"javascript:code_toggle()\"><input type=\"submit\" value=\"Click here to toggle on/off the raw code.\"></form>"
      ],
      "text/plain": [
       "<IPython.core.display.HTML object>"
      ]
     },
     "execution_count": 427,
     "metadata": {},
     "output_type": "execute_result"
    }
   ],
   "source": [
    "from IPython.display import HTML\n",
    "\n",
    "HTML('''<script>\n",
    "code_show=true; \n",
    "function code_toggle() {\n",
    " if (code_show){\n",
    " $('div.input').hide();\n",
    " } else {\n",
    " $('div.input').show();\n",
    " }\n",
    " code_show = !code_show\n",
    "} \n",
    "$( document ).ready(code_toggle);\n",
    "</script>\n",
    "<form action=\"javascript:code_toggle()\"><input type=\"submit\" value=\"Click here to toggle on/off the raw code.\"></form>''')"
   ]
  },
  {
   "cell_type": "markdown",
   "metadata": {
    "collapsed": true
   },
   "source": [
    "### Define a recorder function to format and log results\n",
    "\n",
    "Results are written to \n",
    "- `results.txt'\n",
    "- `results.csv`"
   ]
  },
  {
   "cell_type": "code",
   "execution_count": 414,
   "metadata": {
    "collapsed": false
   },
   "outputs": [],
   "source": [
    "def recorder(classifier, data_dict, features_used, \\\n",
    "             setup, options=\"\",  random_state=None, notes=None):\n",
    "    '''\n",
    "    Returns a formatted message which is also written to results.txt. Unformatted data\n",
    "    is written to results.csv\n",
    "    \n",
    "    BUT only if the F1 score exceeds a set constant\n",
    "    '''\n",
    "    import datetime\n",
    "    import csv\n",
    "    import os.path\n",
    "\n",
    "    MIN_F1 = 0.3\n",
    "    \n",
    "    # get scores\n",
    "    accuracy, precision, recall, f1, f2 = test_classifier(classifier, data_dict, features_used)\n",
    "    scores = [accuracy, precision, recall, f1, f2]\n",
    "    \n",
    "    if f1 < MIN_F1:\n",
    "      return None\n",
    "    \n",
    "    # build the message           \n",
    "    msg = \\\n",
    "    \"\\n\\n------ {0}\".format(datetime.datetime.today()) + \\\n",
    "    \"\\nScores --  Accuracy: {:>0.5f}  Precision: {:>0.5f}  Recall: {:>0.5f}  F1: {:>0.5f} F2:{:>0.5f}\".format(accuracy, precision, recall, f1, f2) + \\\n",
    "    \"\\nSetup: {0}  Random: {3}  Classifier {1}  Options set: {2}\".format(setup, classifier, options, random_state) + \\\n",
    "    \"\\n\\nFeatures: {0}\".format(features_used) + \\\n",
    "    \"\\n\" + \\\n",
    "    \"Notes: {0}\".format(notes) + \\\n",
    "    \"\\n---\\n\"\n",
    "\n",
    "    # write a  text log ...\n",
    "    with open(\"results.txt\",\"a\") as f:\n",
    "        f.write(msg)\n",
    "    \n",
    "    # write a csv \n",
    "    csv_name = \"results.csv\"\n",
    "    exists = os.path.isfile(csv_name)\n",
    "\n",
    "    with open(csv_name, \"ab\") as fc:\n",
    "        fcw = csv.writer(fc)\n",
    "        # write a header\n",
    "        if not exists:\n",
    "            fcw.writerow([\"datetime\", \"accuracy\", \"precision\", \"recall\", \"f1\", \"f2\", \\\n",
    "                      \"random_state\", \"setup\", \"classifier\", \"options\", \"feature_count\",\"features_used\"])        \n",
    "        fcw.writerow([str(datetime.datetime.today()), accuracy, precision, recall, f1, f2, \\\n",
    "                      random_state, setup, classifier, options, len(features_used), features_used])\n",
    "              \n",
    "    return msg"
   ]
  },
  {
   "cell_type": "markdown",
   "metadata": {},
   "source": [
    "## Important global settings.\n",
    "\n",
    "The random_state can be set globally here as well as the test size. This facilitate testing multiple\n",
    "sets. The samples are quite small so there is some variation across samples."
   ]
  },
  {
   "cell_type": "code",
   "execution_count": 415,
   "metadata": {
    "collapsed": false
   },
   "outputs": [],
   "source": [
    "tst_state = 42\n",
    "tst_size = 0.25"
   ]
  },
  {
   "cell_type": "markdown",
   "metadata": {},
   "source": [
    "###Set up test/train data"
   ]
  },
  {
   "cell_type": "code",
   "execution_count": 416,
   "metadata": {
    "collapsed": false
   },
   "outputs": [],
   "source": [
    "features_list = class_features + top_features\n",
    "data = featureFormat(data_dict, features_list)\n",
    "poi, feature_data = targetFeatureSplit( data )\n",
    "features_train, features_test, labels_train, labels_test = \\\n",
    "    train_test_split(feature_data, poi, test_size=tst_size, random_state=tst_state)"
   ]
  },
  {
   "cell_type": "markdown",
   "metadata": {},
   "source": [
    "## Naive Bayes\n",
    "\n"
   ]
  },
  {
   "cell_type": "code",
   "execution_count": 417,
   "metadata": {
    "collapsed": false
   },
   "outputs": [
    {
     "name": "stdout",
     "output_type": "stream",
     "text": [
      "\n",
      "\n",
      "------ 2015-06-06 13:04:38.440779\n",
      "Scores --  Accuracy: 0.84279  Precision: 0.43495  Recall: 0.33600  F1: 0.37913 F2:0.35202\n",
      "Setup: GuassianNB  Random: 42  Classifier GaussianNB()  Options set: {}\n",
      "\n",
      "Features: ['poi', 'shared_receipt_with_poi', 'deferred_income', 'salary', 'long_term_incentive', 'expenses', 'exercised_stock_options']\n",
      "Notes: \n",
      "---\n",
      "\n"
     ]
    }
   ],
   "source": [
    "# get the data and features\n",
    "feature_list =  [\"poi\"] + money_features + email_features[2:5]\n",
    "####[3:4] + email_features[2:5]\n",
    "\n",
    "feature_list = class_features + top_features\n",
    "\n",
    "\n",
    "data = featureFormat(data_dict, feature_list)\n",
    "poi, feature_data = targetFeatureSplit( data )\n",
    "features_train, features_test, labels_train, labels_test = \\\n",
    "    train_test_split(feature_data, poi, test_size=tst_size, random_state=tst_state)\n",
    "    \n",
    "# instantiate the classifier\n",
    "from sklearn.naive_bayes import GaussianNB\n",
    "opts = {}\n",
    "clf = GaussianNB(**opts)\n",
    "clf.fit(features_train, labels_train)\n",
    "\n",
    "#predict\n",
    "pred_labels_test = clf.predict(features_test)\n",
    "my_notes = \"\"\n",
    "print recorder(clf, data_dict, features_list,\n",
    "    \"GuassianNB\", options = opts,  random_state=tst_state, notes = my_notes)"
   ]
  },
  {
   "cell_type": "markdown",
   "metadata": {},
   "source": [
    "###Decision Tree Classifier "
   ]
  },
  {
   "cell_type": "code",
   "execution_count": null,
   "metadata": {
    "collapsed": false,
    "scrolled": true
   },
   "outputs": [
    {
     "name": "stdout",
     "output_type": "stream",
     "text": [
      "\n",
      "\n",
      "------ 2015-06-06 13:04:40.408770\n",
      "Scores --  Accuracy: 0.81700  Precision: 0.34761  Recall: 0.32050  F1: 0.33351 F2:0.32558\n",
      "Setup: Decision Tree  Random: 42  Classifier DecisionTreeClassifier(class_weight=None, criterion='gini', max_depth=None,\n",
      "            max_features=None, max_leaf_nodes=None, min_samples_leaf=1,\n",
      "            min_samples_split=2, min_weight_fraction_leaf=0.0,\n",
      "            random_state=4222, splitter='best')  Options set: {'random_state': 4222}\n",
      "\n",
      "Features: ['poi', 'shared_receipt_with_poi', 'deferred_income', 'salary', 'long_term_incentive', 'expenses', 'exercised_stock_options']\n",
      "Notes: \n",
      "Feature importances:\n",
      "                   feature  importance\n",
      "4                 expenses    0.395600\n",
      "5  exercised_stock_options    0.287234\n",
      "1          deferred_income    0.109534\n",
      "0  shared_receipt_with_poi    0.098594\n",
      "2                   salary    0.055435\n",
      "3      long_term_incentive    0.053603\n",
      "---\n",
      "\n"
     ]
    }
   ],
   "source": [
    "# instantiate the classifier\n",
    "from sklearn import tree\n",
    "opts = {'random_state' : 4222}\n",
    "clf = tree.DecisionTreeClassifier(**opts)\n",
    "\n",
    "# fit the classifier on the training features and labels\n",
    "clf.fit(features_train, labels_train)\n",
    "\n",
    "# use the feature list to name the importances in the dataframe\n",
    "imps = pd.DataFrame({'feature' : features_list[1:],  \n",
    "                     'importance' : clf.feature_importances_}).sort(columns='importance', ascending=False)\n",
    "\n",
    "# record results\n",
    "my_notes = \"\\nFeature importances:\\n{0}\".format(imps)\n",
    "print recorder(clf, data_dict, features_list,\n",
    "    \"Decision Tree\", options = opts,  random_state=tst_state, notes = my_notes)"
   ]
  },
  {
   "cell_type": "markdown",
   "metadata": {},
   "source": [
    "### K-means"
   ]
  },
  {
   "cell_type": "code",
   "execution_count": null,
   "metadata": {
    "collapsed": false
   },
   "outputs": [],
   "source": [
    "# instantiate the classifier\n",
    "from sklearn import cluster\n",
    "opts = {}\n",
    "clf = cluster.KMeans(**opts)\n",
    "\n",
    "# fit the classifier on the training features and labels\n",
    "clf.fit(features_train, labels_train)\n",
    "\n",
    "from sklearn.metrics import f1_score  \n",
    "labels_test_pred = clf.predict(features_test)\n",
    "print \"F1 score on test: {}\".format(f1_score(labels_test, labels_test_pred, average=None))\n",
    "\n",
    "my_notes = \"\"\n",
    "print recorder(clf, data_dict, features_list,\n",
    "    \"K-means\", options = opts,  random_state=tst_state, notes = my_notes)"
   ]
  },
  {
   "cell_type": "markdown",
   "metadata": {},
   "source": [
    "### Support Vector Classifier"
   ]
  },
  {
   "cell_type": "code",
   "execution_count": null,
   "metadata": {
    "collapsed": false
   },
   "outputs": [],
   "source": [
    "# instantiate the classifier\n",
    "from sklearn import svm\n",
    "opts = {'random_state' : 42}\n",
    "clf = svm.SVC(**opts)\n",
    "\n",
    "# fit the classifier on the training features and labels\n",
    "clf.fit(features_train, labels_train)\n",
    "\n",
    "from sklearn.metrics import f1_score  \n",
    "labels_test_pred = clf.predict(features_test)\n",
    "print \"F1 score on test: {}\".format(f1_score(labels_test, labels_test_pred, average=None))\n",
    "\n",
    "my_notes = \"\"\n",
    "print recorder(clf, data_dict, features_list,\n",
    "    \"SVC\", options = opts,  random_state=tst_state, notes = my_notes)"
   ]
  },
  {
   "cell_type": "markdown",
   "metadata": {},
   "source": [
    "### K-neighbors"
   ]
  },
  {
   "cell_type": "code",
   "execution_count": null,
   "metadata": {
    "collapsed": false
   },
   "outputs": [],
   "source": [
    "# instantiate the classifier\n",
    "from sklearn import neighbors\n",
    "\n",
    "opts = {}\n",
    "clf = neighbors.KNeighborsClassifier(**opts)\n",
    "\n",
    "# fit the classifier on the training features and labels\n",
    "clf.fit(features_train, labels_train)\n",
    "\n",
    "from sklearn.metrics import f1_score  \n",
    "labels_test_pred = clf.predict(features_test)\n",
    "print \"F1 score on test: {}\".format(f1_score(labels_test, labels_test_pred))\n",
    "\n",
    "print recorder(clf, data_dict, features_list,\n",
    "    \"K-neighbors\", options = opts,  random_state=tst_state, notes = my_notes)"
   ]
  },
  {
   "cell_type": "markdown",
   "metadata": {},
   "source": [
    "### Adaboost"
   ]
  },
  {
   "cell_type": "code",
   "execution_count": null,
   "metadata": {
    "collapsed": false
   },
   "outputs": [],
   "source": [
    "# instantiate the classifier\n",
    "from sklearn.ensemble import AdaBoostClassifier\n",
    "from sklearn.tree import DecisionTreeClassifier\n",
    "opts = {}\n",
    "\n",
    "# fit the classifier on the training features and labels\n",
    "clf = AdaBoostClassifier(DecisionTreeClassifier(max_depth=1),\n",
    "     algorithm=\"SAMME\",\n",
    "     n_estimators=10)\n",
    "clf.fit(features_train, labels_train)\n",
    "\n",
    "from sklearn.metrics import f1_score  \n",
    "labels_test_pred = clf.predict(features_test)\n",
    "print \"F1 score on test: {}\".format(f1_score(labels_test, labels_test_pred))\n",
    "\n",
    "imps = pd.DataFrame({'feature' : features_list[1:],  'importance' : clf.feature_importances_})\n",
    "my_notes = \"\\nFeature importances:\\n{0}\".format(imps)\n",
    "print recorder(clf, data_dict, features_list,\n",
    "    \"Adaboost/Decision Tree\", options = opts,  random_state=tst_state, notes = my_notes)"
   ]
  },
  {
   "cell_type": "markdown",
   "metadata": {
    "collapsed": true
   },
   "source": [
    "### tester"
   ]
  },
  {
   "cell_type": "code",
   "execution_count": null,
   "metadata": {
    "collapsed": false
   },
   "outputs": [],
   "source": [
    "#!/usr/bin/pickle\n",
    "\n",
    "\"\"\" a basic script for importing student's POI identifier,\n",
    "    and checking the results that they get from it \n",
    " \n",
    "    requires that the algorithm, dataset, and features list\n",
    "    be written to my_classifier.pkl, my_dataset.pkl, and\n",
    "    my_feature_list.pkl, respectively\n",
    "\n",
    "    that process should happen at the end of poi_id.py\n",
    "\"\"\"\n",
    "\n",
    "import pickle\n",
    "import sys\n",
    "from sklearn.metrics import precision_score\n",
    "from sklearn.metrics import recall_score\n",
    "from sklearn.cross_validation import StratifiedShuffleSplit\n",
    "sys.path.append(\"../tools/\")\n",
    "from feature_format import featureFormat, targetFeatureSplit\n",
    "\n",
    "PERF_FORMAT_STRING = \"\\\n",
    "\\tAccuracy: {:>0.{display_precision}f}\\tPrecision: {:>0.{display_precision}f}\\t\\\n",
    "Recall: {:>0.{display_precision}f}\\tF1: {:>0.{display_precision}f}\\tF2: {:>0.{display_precision}f}\"\n",
    "RESULTS_FORMAT_STRING = \"\\tTotal predictions: {:4d}\\tTrue positives: {:4d}\\tFalse positives: {:4d}\\tFalse negatives: {:4d}\\tTrue negatives: {:4d}\"\n",
    "\n",
    "def test_classifier(clf, dataset, feature_list, folds = 1000, print_results=False, \n",
    "                    print_false_positives=False, print_false_negatives=False ):\n",
    "    data = featureFormat(dataset, feature_list, sort_keys = True)\n",
    "    labels, features = targetFeatureSplit(data)\n",
    "    cv = StratifiedShuffleSplit(labels, folds, random_state = 42)\n",
    "    true_negatives = 0\n",
    "    false_negatives = 0\n",
    "    true_positives = 0\n",
    "    false_positives = 0\n",
    "    for train_idx, test_idx in cv: \n",
    "        features_train = []\n",
    "        features_test  = []\n",
    "        labels_train   = []\n",
    "        labels_test    = []\n",
    "        for ii in train_idx:\n",
    "            features_train.append( features[ii] )\n",
    "            labels_train.append( labels[ii] )\n",
    "        for jj in test_idx:\n",
    "            features_test.append( features[jj] )\n",
    "            labels_test.append( labels[jj] )\n",
    "        \n",
    "        ### fit the classifier using training set, and test on test set\n",
    "        clf.fit(features_train, labels_train)\n",
    "        predictions = clf.predict(features_test)\n",
    "        pre_i = 0\n",
    "        for prediction, truth in zip(predictions, labels_test):\n",
    "            if prediction == 0 and truth == 0:\n",
    "                true_negatives += 1\n",
    "            elif prediction == 0 and truth == 1:\n",
    "                false_negatives += 1\n",
    "                if print_false_negatives : print \"False negative: \", data_dict[pre_i]\n",
    "            elif prediction == 1 and truth == 0:\n",
    "                false_positives += 1\n",
    "                if print_false_negatives : print \"False positive: \", data_dict[pre_i]\n",
    "            else:\n",
    "                true_positives += 1\n",
    "            pre_i += 1\n",
    "\n",
    "    try:\n",
    "        accuracy = 0; precision=0; recall=0; f1=0; f2=0      \n",
    "        total_predictions = true_negatives + false_negatives + false_positives + true_positives\n",
    "        accuracy = 1.0*(true_positives + true_negatives)/total_predictions\n",
    "        precision = 1.0*true_positives/(true_positives+false_positives)\n",
    "        recall = 1.0*true_positives/(true_positives+false_negatives)\n",
    "        f1 = 2.0 * true_positives/(2*true_positives + false_positives+false_negatives)\n",
    "        f2 = (1+2.0*2.0) * precision*recall/(4*precision + recall)\n",
    "        if print_results:\n",
    "            print clf\n",
    "            print PERF_FORMAT_STRING.format(accuracy, precision, recall, f1, f2, display_precision = 5)\n",
    "            print RESULTS_FORMAT_STRING.format(total_predictions, true_positives, false_positives, false_negatives, true_negatives)\n",
    "            print \"\"\n",
    "    except:\n",
    "        print \"Got a divide by zero when trying out:\", clf\n",
    "    return accuracy, precision, recall, f1, f2\n",
    "\n",
    "CLF_PICKLE_FILENAME = \"my_classifier.pkl\"\n",
    "DATASET_PICKLE_FILENAME = \"my_dataset.pkl\"\n",
    "FEATURE_LIST_FILENAME = \"my_feature_list.pkl\"\n",
    "\n",
    "def dump_classifier_and_data(clf, dataset, feature_list):\n",
    "    pickle.dump(clf, open(CLF_PICKLE_FILENAME, \"w\") )\n",
    "    pickle.dump(dataset, open(DATASET_PICKLE_FILENAME, \"w\") )\n",
    "    pickle.dump(feature_list, open(FEATURE_LIST_FILENAME, \"w\") )\n",
    "\n",
    "def load_classifier_and_data():\n",
    "    clf = pickle.load(open(CLF_PICKLE_FILENAME, \"r\") )\n",
    "    dataset = pickle.load(open(DATASET_PICKLE_FILENAME, \"r\") )\n",
    "    feature_list = pickle.load(open(FEATURE_LIST_FILENAME, \"r\"))\n",
    "    return clf, dataset, feature_list\n"
   ]
  }
 ],
 "metadata": {
  "kernelspec": {
   "display_name": "Python 2",
   "language": "python",
   "name": "python2"
  },
  "language_info": {
   "codemirror_mode": {
    "name": "ipython",
    "version": 2
   },
   "file_extension": ".py",
   "mimetype": "text/x-python",
   "name": "python",
   "nbconvert_exporter": "python",
   "pygments_lexer": "ipython2",
   "version": "2.7.9"
  }
 },
 "nbformat": 4,
 "nbformat_minor": 0
}
